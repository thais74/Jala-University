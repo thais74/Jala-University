{
  "nbformat": 4,
  "nbformat_minor": 0,
  "metadata": {
    "colab": {
      "provenance": [],
      "authorship_tag": "ABX9TyOxVJuion4ScRBehWsAyazU",
      "include_colab_link": true
    },
    "kernelspec": {
      "name": "python3",
      "display_name": "Python 3"
    },
    "language_info": {
      "name": "python"
    }
  },
  "cells": [
    {
      "cell_type": "markdown",
      "metadata": {
        "id": "view-in-github",
        "colab_type": "text"
      },
      "source": [
        "<a href=\"https://colab.research.google.com/github/thais74/Jala-University/blob/main/exercicios.ipynb\" target=\"_parent\"><img src=\"https://colab.research.google.com/assets/colab-badge.svg\" alt=\"Open In Colab\"/></a>"
      ]
    },
    {
      "cell_type": "markdown",
      "source": [
        "## Exercício 1\n",
        "Dado um inteiro n, determine se o número é par ou ímpar, se for par, imprima \"O número é par\" ou \"The number is even\"\n",
        "*italicized text*"
      ],
      "metadata": {
        "id": "yRwQE4MvoUe8"
      }
    },
    {
      "cell_type": "code",
      "source": [
        "number = 14\n",
        "\n",
        "if (number % 2) == 0:\n",
        "    print(\"O número é par\")\n",
        "elif (number % 2) != 0:\n",
        "    print(\"O número é ímpar\")"
      ],
      "metadata": {
        "colab": {
          "base_uri": "https://localhost:8080/"
        },
        "id": "oht7igZIobZu",
        "outputId": "b4b439db-089c-4c53-ae28-d2b34d963844"
      },
      "execution_count": null,
      "outputs": [
        {
          "output_type": "stream",
          "name": "stdout",
          "text": [
            "O número é par\n"
          ]
        }
      ]
    },
    {
      "cell_type": "markdown",
      "source": [
        "## Exercício 2\n",
        "Em uma cidade do Canadá com climas frios na maioria das vezes, é necessário saber quando você pode sair sem precisar usar casacos, ou seja, quando há sol. Para isso, foi solicitado que você realizasse um programa que determina se as pessoas podem sair sem problemas, então apresentamos a função input.*italicized text*"
      ],
      "metadata": {
        "id": "CxXq_XMfoe2B"
      }
    },
    {
      "cell_type": "code",
      "source": [
        "name = input(\"Write your name: \")\n",
        "\n",
        "print(name)\n",
        "\n",
        "## Como você pode ver com a função de entrada, podemos receber a entrada do teclado\n",
        "## e armazená-los em variáveis."
      ],
      "metadata": {
        "id": "dhfpG56nol_G"
      },
      "execution_count": null,
      "outputs": []
    },
    {
      "cell_type": "markdown",
      "source": [
        "na classe a seguir, implemente o método get_weather, receba como parâmetro a temperatura do local em graus Fahrenheit, imprima O clima é ideal para sair sem casaco se a temperatura for menor ou igual a 65 graus Celsius , caso contrário, imprima Fique em casa, está frio lá fora, antes de usar as condicionais converta esse valor para graus Celsius."
      ],
      "metadata": {
        "id": "J_PU2OPvovng"
      }
    },
    {
      "cell_type": "code",
      "source": [
        "class WeatherMachine:\n",
        "    def __init__(self, temperature):  \n",
        "      self.temperature = temperature \n",
        "\n",
        "    def get_weather(self):\n",
        "      if self.temperature <= 65:\n",
        "        print(\"O clima é ideal para sair sem casaco\")\n",
        "      else:\n",
        "        print(\"Fique em casa, está frio lá fora\")\n",
        "\n",
        "      \n",
        "\n",
        "weather = WeatherMachine(45)\n",
        "weather.get_weather()\n"
      ],
      "metadata": {
        "colab": {
          "base_uri": "https://localhost:8080/"
        },
        "id": "mTuX7lcZo1Nc",
        "outputId": "fc54e8f9-e1b5-4a58-b708-0465cd8ed9f3"
      },
      "execution_count": null,
      "outputs": [
        {
          "output_type": "stream",
          "name": "stdout",
          "text": [
            "O clima é ideal para sair sem casaco\n"
          ]
        }
      ]
    },
    {
      "cell_type": "markdown",
      "source": [
        "## Exercício 3\n",
        "Se você já viu a série The Big Bang Theory, já deve ter ouvido falar do jogo: pedra, papel, tesoura, lagarto, esponja, e se você não conhece as regras, apresentamos abaixo:\n",
        "\n",
        "\n",
        "*italicized text*\n",
        "\n",
        "o que faremos é implementar uma versão básica do jogo na próxima célula, você receberá duas entradas que serão player_1 e player_2 nessa ordem, por enquanto, considere que você só pode inserir uma das opções válidas listadas acima, imprima quem ganhou com base nas regras e usando as condicionais que já aprendemos."
      ],
      "metadata": {
        "id": "TrQPT9Oawh4p"
      }
    },
    {
      "cell_type": "code",
      "source": [
        "player_1 = input(\"Write the value chosen by player 1: \")\n",
        "player_2 = input(\"Write the value chosen by player 2: \")\n",
        "## considera apenas como entradas válidas: 1. pedra, 2. papel, 3. tesoura, 4. lagarto, 5.esponja\n",
        "\n",
        "\n",
        "if player_1 == 1 and player_2 ==(4 or 3):\n",
        "  print(\"Player 1 ganhou\")\n",
        "elif player_1 == 2 and player_2 ==(1 or 5):\n",
        "  print(\"Player 1 ganhou\")\n",
        "elif player_1 == 3 and player_2 ==(2 or 4):\n",
        "  print(\"Player 1 ganhou\")\n",
        "elif player_1 == 4 and player_2 ==(2 or 5):\n",
        "  print(\"Player 1 ganhou\")\n",
        "elif player_1 == 5 and player_2 ==(1 or 3):\n",
        "  print(\"Player 1 ganhou\")\n",
        "elif player_1 ==  player_2:\n",
        "  print(\"Empate\")\n",
        "else:\n",
        "  print(\"Player 2 ganhou\")\n",
        "\n",
        "\n",
        "\n",
        "\n"
      ],
      "metadata": {
        "colab": {
          "base_uri": "https://localhost:8080/"
        },
        "id": "UMvpmxW3z8t_",
        "outputId": "d33f4513-42fe-41ed-8d78-d716060e3914"
      },
      "execution_count": 1,
      "outputs": [
        {
          "output_type": "stream",
          "name": "stdout",
          "text": [
            "Write the value chosen by player 1: 2\n",
            "Write the value chosen by player 2: 5\n",
            "Player 2 ganhou\n"
          ]
        }
      ]
    }
  ]
}