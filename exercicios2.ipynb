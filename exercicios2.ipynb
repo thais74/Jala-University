{
  "nbformat": 4,
  "nbformat_minor": 0,
  "metadata": {
    "colab": {
      "provenance": [],
      "authorship_tag": "ABX9TyNp3AAOdNsw7qccN8bLcY1z",
      "include_colab_link": true
    },
    "kernelspec": {
      "name": "python3",
      "display_name": "Python 3"
    },
    "language_info": {
      "name": "python"
    }
  },
  "cells": [
    {
      "cell_type": "markdown",
      "metadata": {
        "id": "view-in-github",
        "colab_type": "text"
      },
      "source": [
        "<a href=\"https://colab.research.google.com/github/thais74/Jala-University/blob/main/exercicios2.ipynb\" target=\"_parent\"><img src=\"https://colab.research.google.com/assets/colab-badge.svg\" alt=\"Open In Colab\"/></a>"
      ]
    },
    {
      "cell_type": "markdown",
      "source": [
        "Exercício 1\n",
        "\n",
        "Os alunos devem incrementar o código com variáveis e métodos, se acharem necessário e, ao final, imprimir na tela todo o histórico do aluno, com todas as notas e médias, inclusive informando se o status do aluno foi: \"aprovado por média\", \"aprovado na final\" ou \"reprovado\". Consideram que a média aritimética para aprovação é 7,0 (sete) e após final 5,0 (cinco)\n"
      ],
      "metadata": {
        "id": "n-_qMpt9fWSI"
      }
    },
    {
      "cell_type": "code",
      "source": [
        "class desempenhoacademico:\n",
        "  def __init__(self, nomealuno, nota1, nota2, nota_final):\n",
        "    self.nomealuno = nomealuno\n",
        "    self.nota1 = nota1\n",
        "    self.nota2 = nota2\n",
        "    self.nota_final = nota_final\n",
        "    self.situacao = False\n",
        "\n",
        "  def media(self):\n",
        "    self.media = (self.nota1 + self.nota2)/ 2\n",
        "    if (self.media >= 7.00):\n",
        "      self.situacao = True\n",
        "    return self.media\n",
        "\n",
        "  def mediafinal(self):\n",
        "    self.mediafinal = (self.media + self.nota_final)/2\n",
        "    if (self.mediafinal >= 5.00):\n",
        "      self.situacao = True \n",
        "    return self.mediafinal\n",
        "\n",
        "  def situacaoaluno(self):\n",
        "     if(self.situacao == True and self.media >= 7.00):\n",
        "       print(\"Aluno\", self.nomealuno, \" está em situação: Aprovado por média\")\n",
        "     elif(self.situacao == True and self.mediafinal >= 5.00):\n",
        "       print(\"Aluno\", self.nomealuno, \"está em situação: Aprovado na final\")\n",
        "     else:\n",
        "       print(\"Aluno\", self.nomealuno, \" está em situação: Reprovado\")\n",
        "     return self.situacaoaluno\n",
        "\n",
        "\n",
        "aluno1 = desempenhoacademico(\"Alexandre Carvalo\", 10, 8, 7)\n",
        "print(aluno1.nomealuno)\n",
        "print(\"Primeira nota\", aluno1.nota1)\n",
        "print(\"Segunda nota\", aluno1.nota2)\n",
        "print(\"Nota final:\", aluno1.nota_final)\n",
        "print(\"Media do aluno foi:\", aluno1.media())\n",
        "print(\"Media final do aluno:\", aluno1.mediafinal())\n",
        "aluno1.situacaoaluno()\n",
        "\n",
        "\n",
        "\n",
        "aluno2 = desempenhoacademico(\"Maria Luiza\", 4, 6, 8)\n",
        "print(aluno2.nomealuno)\n",
        "print(\"Primeira nota\", aluno2.nota1)\n",
        "print(\"Segunda nota\", aluno2.nota2)\n",
        "print(\"Nota final:\", aluno2.nota_final)\n",
        "print(\"Media do aluno foi:\", aluno2.media())\n",
        "print(\"Media final do aluno:\", aluno2.mediafinal())\n",
        "aluno2.situacaoaluno()\n",
        "\n",
        "aluno3 = desempenhoacademico(\"Luis Machado\", 6, 4, 3)\n",
        "print(aluno3.nomealuno)\n",
        "print(\"Primeira nota\", aluno3.nota1)\n",
        "print(\"Segunda nota\", aluno3.nota2)\n",
        "print(\"Nota final:\", aluno3.nota_final)\n",
        "print(\"Media do aluno foi:\", aluno3.media())\n",
        "print(\"Media final do aluno:\", aluno3.mediafinal())\n",
        "aluno3.situacaoaluno()"
      ],
      "metadata": {
        "colab": {
          "base_uri": "https://localhost:8080/"
        },
        "id": "LUPW6UYGfYut",
        "outputId": "c0ebb549-e038-4781-b0d6-c5ef9933d56a"
      },
      "execution_count": 1,
      "outputs": [
        {
          "output_type": "stream",
          "name": "stdout",
          "text": [
            "Alexandre Carvalo\n",
            "Primeira nota 10\n",
            "Segunda nota 8\n",
            "Nota final: 7\n",
            "Media do aluno foi: 9.0\n",
            "Media final do aluno: 8.0\n",
            "Aluno Alexandre Carvalo  está em situação: Aprovado por média\n",
            "Maria Luiza\n",
            "Primeira nota 4\n",
            "Segunda nota 6\n",
            "Nota final: 8\n",
            "Media do aluno foi: 5.0\n",
            "Media final do aluno: 6.5\n",
            "Aluno Maria Luiza está em situação: Aprovado na final\n",
            "Luis Machado\n",
            "Primeira nota 6\n",
            "Segunda nota 4\n",
            "Nota final: 3\n",
            "Media do aluno foi: 5.0\n",
            "Media final do aluno: 4.0\n",
            "Aluno Luis Machado  está em situação: Reprovado\n"
          ]
        },
        {
          "output_type": "execute_result",
          "data": {
            "text/plain": [
              "<bound method desempenhoacademico.situacaoaluno of <__main__.desempenhoacademico object at 0x7ff1574dae10>>"
            ]
          },
          "metadata": {},
          "execution_count": 1
        }
      ]
    }
  ]
}